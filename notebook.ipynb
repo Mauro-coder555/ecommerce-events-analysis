{
 "cells": [
  {
   "cell_type": "code",
   "execution_count": null,
   "metadata": {},
   "outputs": [
    {
     "name": "stderr",
     "output_type": "stream",
     "text": [
      "25/03/27 10:43:46 WARN Utils: Your hostname, mauro-desktop resolves to a loopback address: 127.0.1.1; using 192.168.0.21 instead (on interface wlxf4ec3892e485)\n",
      "25/03/27 10:43:46 WARN Utils: Set SPARK_LOCAL_IP if you need to bind to another address\n",
      "Setting default log level to \"WARN\".\n",
      "To adjust logging level use sc.setLogLevel(newLevel). For SparkR, use setLogLevel(newLevel).\n",
      "25/03/27 10:43:46 WARN NativeCodeLoader: Unable to load native-hadoop library for your platform... using builtin-java classes where applicable\n"
     ]
    }
   ],
   "source": [
    "from pyspark.sql import SparkSession\n",
    "\n",
    "spark = SparkSession.builder.appName(\"MiAplicacion\").getOrCreate()"
   ]
  },
  {
   "cell_type": "markdown",
   "metadata": {},
   "source": [
    "### Propiedad Descripción\n",
    "\n",
    "**event_time** - Hora en la que ocurrió el evento (en UTC).\n",
    "\n",
    "**event_type** - Solo un tipo de evento: view - cart - remove_from_cart - purchase.\n",
    "\n",
    "**product_id** - ID de un producto.\n",
    "\n",
    "**category_id** - ID de la categoría del producto.\n",
    "\n",
    "**category_code** - Taxonomía de la categoría del producto (nombre en código) si fue posible obtenerla. Usualmente presente para categorías significativas y omitida para diferentes tipos de accesorios.\n",
    "\n",
    "**brand** - Cadena de texto en minúsculas del nombre de la marca. Puede faltar.\n",
    "\n",
    "**price** - Precio flotante de un producto. Presente.\n",
    "\n",
    "**user_id** - ID de usuario permanente\n",
    "\n",
    "**user_session** - ID de sesión temporal del usuario. Es el mismo para cada sesión del usuario. Cambia cada vez que el usuario regresa a la tienda online después de una pausa larga."
   ]
  },
  {
   "cell_type": "code",
   "execution_count": 3,
   "metadata": {},
   "outputs": [],
   "source": [
    "from pyspark.sql import functions as F"
   ]
  },
  {
   "cell_type": "code",
   "execution_count": 4,
   "metadata": {},
   "outputs": [
    {
     "name": "stderr",
     "output_type": "stream",
     "text": [
      "                                                                                \r"
     ]
    }
   ],
   "source": [
    "df = spark.read.options( header = 'True', inferSchema = 'True' ).csv(\"archive/*.csv\")"
   ]
  },
  {
   "cell_type": "code",
   "execution_count": 6,
   "metadata": {},
   "outputs": [
    {
     "name": "stdout",
     "output_type": "stream",
     "text": [
      "+-------------------+----------------+----------+-------------------+-------------+---------+-----+---------+--------------------+\n",
      "|         event_time|      event_type|product_id|        category_id|category_code|    brand|price|  user_id|        user_session|\n",
      "+-------------------+----------------+----------+-------------------+-------------+---------+-----+---------+--------------------+\n",
      "|2019-11-30 21:00:00|remove_from_cart|   5712790|1487580005268456287|         NULL|    f.o.x| 6.27|576802932|51d85cb0-897f-48d...|\n",
      "|2019-11-30 21:00:00|            view|   5764655|1487580005411062629|         NULL|      cnd|29.05|412120092|8adff31e-2051-489...|\n",
      "|2019-11-30 21:00:02|            cart|      4958|1487580009471148064|         NULL|   runail| 1.19|494077766|c99a50e8-2fac-4c4...|\n",
      "|2019-11-30 21:00:05|            view|   5848413|1487580007675986893|         NULL|freedecor| 0.79|348405118|722ffea5-73c0-492...|\n",
      "|2019-11-30 21:00:07|            view|   5824148|1487580005511725929|         NULL|     NULL| 5.56|576005683|28172809-7e4a-45c...|\n",
      "|2019-11-30 21:00:09|            view|   5773361|1487580005134238553|         NULL|   runail| 2.62|560109803|38cf4ba1-4a0a-4c9...|\n",
      "|2019-11-30 21:00:18|            cart|   5629988|1487580009311764506|         NULL|     NULL| 1.19|579966747|1512be50-d0fd-4a9...|\n",
      "|2019-11-30 21:00:22|            view|   5807805|1487580005713052531|         NULL| ingarden| 4.44|576005683|28172809-7e4a-45c...|\n",
      "|2019-11-30 21:00:27|            view|   5588608|1487580008145748965|         NULL| roubloff|  5.4|546170008|676d9fcc-2a4f-444...|\n",
      "|2019-11-30 21:00:34|            cart|      5335|1487580009605365797|         NULL|   runail|  0.4|494077766|c99a50e8-2fac-4c4...|\n",
      "|2019-11-30 21:00:40|            cart|   5755170|1487580009387261981|         NULL|     NULL| 2.79|579751441|8de492d7-0937-47a...|\n",
      "|2019-11-30 21:00:44|remove_from_cart|   5650294|1487580007835370453|         NULL|  metzger| 3.33|576802932|51d85cb0-897f-48d...|\n",
      "|2019-11-30 21:00:45|            cart|   5755170|1487580009387261981|         NULL|     NULL| 2.79|579751441|8de492d7-0937-47a...|\n",
      "|2019-11-30 21:00:46|remove_from_cart|   5692261|1487580007835370453|         NULL|  staleks| 6.35|576802932|51d85cb0-897f-48d...|\n",
      "|2019-11-30 21:00:46|            view|   5798929|1783999068909863670|         NULL|   zinger| 6.19|579966747|1512be50-d0fd-4a9...|\n",
      "|2019-11-30 21:00:46|            cart|   5755170|1487580009387261981|         NULL|     NULL| 2.79|579751441|8de492d7-0937-47a...|\n",
      "|2019-11-30 21:00:49|remove_from_cart|   5694628|1487580007835370453|         NULL|     yoko| 3.65|576802932|51d85cb0-897f-48d...|\n",
      "|2019-11-30 21:00:50|            view|      3936|1487580005343953762|         NULL|   entity|10.95|579969717|006dd2fb-ae1e-446...|\n",
      "|2019-11-30 21:00:52|            cart|   5761411|1487580007432717250|         NULL| ingarden| 2.86|494077766|c99a50e8-2fac-4c4...|\n",
      "|2019-11-30 21:00:58|            cart|   5761411|1487580007432717250|         NULL| ingarden| 2.86|494077766|c99a50e8-2fac-4c4...|\n",
      "+-------------------+----------------+----------+-------------------+-------------+---------+-----+---------+--------------------+\n",
      "only showing top 20 rows\n",
      "\n"
     ]
    }
   ],
   "source": [
    "df.show()"
   ]
  },
  {
   "cell_type": "code",
   "execution_count": null,
   "metadata": {},
   "outputs": [],
   "source": [
    "df.filter(F.col(\"price\") < 0).show()"
   ]
  },
  {
   "cell_type": "code",
   "execution_count": 8,
   "metadata": {},
   "outputs": [],
   "source": [
    "df = df.withColumn(\"price\",F.when(F.col(\"price\") < 0, F.abs(F.col(\"price\"))).otherwise(F.col(\"price\")))"
   ]
  },
  {
   "cell_type": "code",
   "execution_count": 9,
   "metadata": {},
   "outputs": [
    {
     "name": "stderr",
     "output_type": "stream",
     "text": [
      "[Stage 6:====================================================>    (13 + 1) / 14]\r"
     ]
    },
    {
     "name": "stdout",
     "output_type": "stream",
     "text": [
      "+----------+----------+----------+-----------+-------------+-----+-----+-------+------------+\n",
      "|event_time|event_type|product_id|category_id|category_code|brand|price|user_id|user_session|\n",
      "+----------+----------+----------+-----------+-------------+-----+-----+-------+------------+\n",
      "+----------+----------+----------+-----------+-------------+-----+-----+-------+------------+\n",
      "\n"
     ]
    },
    {
     "name": "stderr",
     "output_type": "stream",
     "text": [
      "                                                                                \r"
     ]
    }
   ],
   "source": [
    "df.filter(F.col(\"price\") < 0).show()"
   ]
  },
  {
   "cell_type": "markdown",
   "metadata": {},
   "source": [
    "Tasa de conversión por producto: ¿Cuántos productos que fueron vistos terminaron en compra?"
   ]
  },
  {
   "cell_type": "code",
   "execution_count": 10,
   "metadata": {},
   "outputs": [],
   "source": [
    "conversion_reates = df.groupBy(\"product_id\").agg(\n",
    "    F.sum(F.when(F.col(\"event_type\") == \"purchase\",1).otherwise(0)).alias(\"purchases\"),\n",
    "    F.sum(F.when(F.col(\"event_type\") == \"view\",1).otherwise(0)).alias(\"views\")\n",
    ").withColumn(\"conversion_rate\", F.col(\"purchases\") / F.col(\"views\"))"
   ]
  },
  {
   "cell_type": "code",
   "execution_count": 11,
   "metadata": {},
   "outputs": [
    {
     "name": "stderr",
     "output_type": "stream",
     "text": [
      "[Stage 3:======================================================>  (18 + 1) / 19]\r"
     ]
    },
    {
     "name": "stdout",
     "output_type": "stream",
     "text": [
      "+----------+---------+-----+--------------------+\n",
      "|product_id|purchases|views|     conversion_rate|\n",
      "+----------+---------+-----+--------------------+\n",
      "|   5819251|       40|  261|  0.1532567049808429|\n",
      "|   5657304|       12|  571|0.021015761821366025|\n",
      "|   5815137|       38|  236| 0.16101694915254236|\n",
      "|   5809871|     1100| 3868|  0.2843846949327818|\n",
      "|   5812121|      108|  781|  0.1382842509603073|\n",
      "|   5834157|      126| 1689| 0.07460035523978685|\n",
      "|   5908237|       20|  100|                 0.2|\n",
      "|   5826154|       96|  697| 0.13773314203730272|\n",
      "|   5670719|       69|  114|  0.6052631578947368|\n",
      "|   5767927|      299|  814| 0.36732186732186733|\n",
      "|   5574996|       19| 1290|0.014728682170542635|\n",
      "|   5900643|       58|  331| 0.17522658610271905|\n",
      "|   5876926|       94| 2055|0.045742092457420926|\n",
      "|   5863096|      107|  181|  0.5911602209944752|\n",
      "|   5713340|       15|  110| 0.13636363636363635|\n",
      "|   5557784|        8|  154| 0.05194805194805195|\n",
      "|   5797144|       19|  187| 0.10160427807486631|\n",
      "|   5866963|       18| 1078|0.016697588126159554|\n",
      "|   5876945|       32|  404| 0.07920792079207921|\n",
      "|   5885863|      431| 2627| 0.16406547392462886|\n",
      "+----------+---------+-----+--------------------+\n",
      "only showing top 20 rows\n",
      "\n"
     ]
    },
    {
     "name": "stderr",
     "output_type": "stream",
     "text": [
      "                                                                                \r"
     ]
    }
   ],
   "source": [
    "conversion_reates.show()"
   ]
  },
  {
   "cell_type": "markdown",
   "metadata": {},
   "source": [
    "Tiempo hasta la compra ¿Cuánto tiempo tarda un usuario en comprar desde su primer evento de vista?"
   ]
  },
  {
   "cell_type": "code",
   "execution_count": 16,
   "metadata": {},
   "outputs": [],
   "source": [
    "df_filtered = df.filter(F.col(\"event_type\").isin([\"view\", \"purchase\"]))\n",
    "\n",
    "purchase_time = df_filtered.groupBy(\"user_session\",\"product_id\").agg(\n",
    "    F.min(F.when(F.col(\"event_type\") == \"view\",F.col(\"event_time\"))).alias(\"first_view\"),\n",
    "    F.min(F.when(F.col(\"event_type\") == \"purchase\",F.col(\"event_time\"))).alias(\"first_purchase\")\n",
    ").withColumn(\"time_to_purchase\", F.col(\"first_purchase\").cast(\"long\") - F.col(\"first_view\").cast(\"long\"))"
   ]
  },
  {
   "cell_type": "code",
   "execution_count": 19,
   "metadata": {},
   "outputs": [
    {
     "name": "stderr",
     "output_type": "stream",
     "text": [
      "[Stage 17:>                                                         (0 + 1) / 1]\r"
     ]
    },
    {
     "name": "stdout",
     "output_type": "stream",
     "text": [
      "+--------------------+----------+-------------------+-------------------+----------------+\n",
      "|        user_session|product_id|         first_view|     first_purchase|time_to_purchase|\n",
      "+--------------------+----------+-------------------+-------------------+----------------+\n",
      "|885948cc-afa3-46a...|   5866173|2019-10-20 07:39:48|2019-10-20 04:47:40|          -10328|\n",
      "|8e64c2f8-0104-44e...|   5900297|2019-12-01 03:31:27|2019-12-01 04:35:08|            3821|\n",
      "|77e818ab-4d9f-4a1...|      4938|2019-12-01 11:24:41|2019-12-01 11:45:48|            1267|\n",
      "|00e83d38-8c67-4e5...|   5833332|2019-12-01 11:58:48|2019-12-01 12:17:09|            1101|\n",
      "|8ed1031c-601e-4c8...|   5819270|2019-12-01 12:29:21|2019-12-01 12:42:24|             783|\n",
      "|a9f51db0-7030-4d5...|   5699414|2019-12-01 13:01:56|2019-12-01 13:38:06|            2170|\n",
      "|5895cc10-6951-446...|   5787014|2019-12-01 14:32:50|2019-12-01 14:52:21|            1171|\n",
      "|f8499285-f42b-437...|   5862936|2019-12-01 14:45:35|2019-12-01 15:31:18|            2743|\n",
      "|e7a92ad4-a4d9-403...|   5856183|2019-12-01 15:21:17|2019-12-01 15:28:41|             444|\n",
      "|599cccf7-abd1-4cc...|      6941|2019-12-01 17:02:44|2019-12-01 17:10:29|             465|\n",
      "|e0868242-a13e-400...|   5825604|2019-12-01 18:14:17|2019-12-01 18:43:48|            1771|\n",
      "|57378140-9bcd-413...|   5713054|2019-12-02 01:57:14|2019-12-02 02:12:13|             899|\n",
      "|73395a21-d906-4d9...|   5833681|2019-12-02 03:13:36|2019-12-02 05:25:27|            7911|\n",
      "|25526107-1cce-4a5...|   5808662|2019-12-02 04:20:20|2019-12-02 04:56:21|            2161|\n",
      "|5e1fbe64-647a-43d...|   5846599|2019-10-02 09:21:53|2019-11-24 13:49:58|         4595285|\n",
      "|1f0d6a09-dc64-416...|   5811868|2019-12-02 07:57:13|2019-12-02 08:01:58|             285|\n",
      "|f970d001-302f-442...|   5842088|2019-12-02 12:54:53|2019-12-02 13:05:53|             660|\n",
      "|ee0b75cc-75e7-4e7...|   5853713|2019-12-02 13:18:37|2019-12-02 13:43:53|            1516|\n",
      "|b24d848a-215b-498...|   5759388|2019-12-02 15:02:05|2019-12-02 15:18:24|             979|\n",
      "|b0fffd6b-248c-4b3...|   5839648|2019-12-02 17:26:33|2019-12-02 17:36:07|             574|\n",
      "+--------------------+----------+-------------------+-------------------+----------------+\n",
      "only showing top 20 rows\n",
      "\n"
     ]
    },
    {
     "name": "stderr",
     "output_type": "stream",
     "text": [
      "                                                                                \r"
     ]
    }
   ],
   "source": [
    "purchase_time.filter(F.col(\"time_to_purchase\").isNotNull()).show()"
   ]
  },
  {
   "cell_type": "markdown",
   "metadata": {},
   "source": [
    "Algunas dudas sobre este punto. Porque hay negativos? Que pasa si miro un producto luego de comprarlo?"
   ]
  },
  {
   "cell_type": "markdown",
   "metadata": {},
   "source": [
    "Frecuencia de compra por usuario ¿Qué tan leales son los usuarios? ¿Compran repetidamente?"
   ]
  },
  {
   "cell_type": "code",
   "execution_count": 23,
   "metadata": {},
   "outputs": [],
   "source": [
    "purchase_freq = df.filter(F.col(\"event_type\") == \"purchase\") \\\n",
    "                    .groupBy(\"user_id\") \\\n",
    "                    .agg(F.count(\"*\").alias(\"total_purchases\"))"
   ]
  },
  {
   "cell_type": "code",
   "execution_count": 25,
   "metadata": {},
   "outputs": [
    {
     "name": "stderr",
     "output_type": "stream",
     "text": [
      "[Stage 30:=====================================================>  (18 + 1) / 19]\r"
     ]
    },
    {
     "name": "stdout",
     "output_type": "stream",
     "text": [
      "+---------+---------------+\n",
      "|  user_id|total_purchases|\n",
      "+---------+---------------+\n",
      "|578779619|              9|\n",
      "|580197384|              8|\n",
      "|479913443|             63|\n",
      "|579543348|              9|\n",
      "|539938733|             22|\n",
      "|569691461|              7|\n",
      "|522385131|            100|\n",
      "|461446900|             19|\n",
      "|445185747|             13|\n",
      "|398719446|             10|\n",
      "|543676273|             33|\n",
      "|580799959|             13|\n",
      "|581227067|              8|\n",
      "|568429315|              6|\n",
      "|563476291|             20|\n",
      "|439472531|              6|\n",
      "|582006763|             29|\n",
      "|582162065|              2|\n",
      "|582303660|             12|\n",
      "|569728881|              3|\n",
      "+---------+---------------+\n",
      "only showing top 20 rows\n",
      "\n"
     ]
    },
    {
     "name": "stderr",
     "output_type": "stream",
     "text": [
      "                                                                                \r"
     ]
    }
   ],
   "source": [
    "purchase_freq.show()"
   ]
  },
  {
   "cell_type": "markdown",
   "metadata": {},
   "source": [
    "Segmentación por precios\n",
    "¿Cuáles son los rangos de precio más populares?"
   ]
  },
  {
   "cell_type": "code",
   "execution_count": 10,
   "metadata": {},
   "outputs": [
    {
     "name": "stderr",
     "output_type": "stream",
     "text": [
      "[Stage 7:======================================================>  (18 + 1) / 19]\r"
     ]
    },
    {
     "name": "stdout",
     "output_type": "stream",
     "text": [
      "+-----------+-------+\n",
      "|price range|  count|\n",
      "+-----------+-------+\n",
      "|          0|1280230|\n",
      "|         50|   5198|\n",
      "|        150|    655|\n",
      "|        100|    646|\n",
      "|        200|    155|\n",
      "|        250|    116|\n",
      "|        300|      7|\n",
      "+-----------+-------+\n",
      "\n"
     ]
    },
    {
     "name": "stderr",
     "output_type": "stream",
     "text": [
      "                                                                                \r"
     ]
    }
   ],
   "source": [
    "price_distribution = df.filter(F.col(\"event_type\") == \"purchase\") \\\n",
    "                            .groupBy(F.floor(F.col(\"price\") / 50) * 50) \\\n",
    "                            .agg(F.count(\"*\").alias(\"count\")) \\\n",
    "                            .withColumnRenamed(\"(floor((price / 50)) * 50)\", \"price range\") \\\n",
    "                            .orderBy(\"count\", ascending = False)   \n",
    "\n",
    "price_distribution.show() "
   ]
  },
  {
   "cell_type": "markdown",
   "metadata": {},
   "source": [
    "Análisis de abandono de carrito ¿Qué productos se agregan al carrito pero no se compran?"
   ]
  },
  {
   "cell_type": "code",
   "execution_count": 37,
   "metadata": {},
   "outputs": [
    {
     "name": "stderr",
     "output_type": "stream",
     "text": [
      "[Stage 51:=====================================================>  (18 + 1) / 19]\r"
     ]
    },
    {
     "name": "stdout",
     "output_type": "stream",
     "text": [
      "+----------+-------------+---------+------------------+\n",
      "|product_id|added_to_cart|purchased|      abandon_rate|\n",
      "+----------+-------------+---------+------------------+\n",
      "|   5819251|          246|       40|0.8373983739837398|\n",
      "|   5657304|           83|       12|0.8554216867469879|\n",
      "|   5815137|          153|       38|0.7516339869281046|\n",
      "|   5809871|         3989|     1100|0.7242416645775883|\n",
      "|   5812121|          484|      108|0.7768595041322314|\n",
      "|   5834157|          660|      126|0.8090909090909091|\n",
      "|   5908237|           95|       20|0.7894736842105263|\n",
      "|   5826154|          390|       96|0.7538461538461538|\n",
      "|   5670719|          225|       69|0.6933333333333334|\n",
      "|   5767927|          809|      299| 0.630407911001236|\n",
      "|   5574996|          125|       19|             0.848|\n",
      "|   5900643|          192|       58|0.6979166666666666|\n",
      "|   5876926|          509|       94|0.8153241650294696|\n",
      "|   5863096|          637|      107|0.8320251177394035|\n",
      "|   5713340|           47|       15|0.6808510638297872|\n",
      "|   5557784|           39|        8|0.7948717948717948|\n",
      "|   5797144|          123|       19|0.8455284552845529|\n",
      "|   5866963|           83|       18|0.7831325301204819|\n",
      "|   5876945|          218|       32|0.8532110091743119|\n",
      "|   5885863|         1629|      431|0.7354205033763045|\n",
      "+----------+-------------+---------+------------------+\n",
      "only showing top 20 rows\n",
      "\n"
     ]
    },
    {
     "name": "stderr",
     "output_type": "stream",
     "text": [
      "                                                                                \r"
     ]
    }
   ],
   "source": [
    "cart_vs_purchase = df.groupBy(\"product_id\"). agg(\n",
    "    F.sum(F.when(F.col(\"event_type\") == \"cart\", 1).otherwise(0)).alias(\"added_to_cart\"),\n",
    "    F.sum(F.when(F.col(\"event_type\") == \"purchase\", 1).otherwise(0)).alias(\"purchased\")\n",
    "\n",
    "\n",
    ").withColumn(\"abandon_rate\", (F.col(\"added_to_cart\") - F.col(\"purchased\")) / F.col(\"added_to_cart\"))\n",
    "\n",
    "cart_vs_purchase.show()"
   ]
  },
  {
   "cell_type": "markdown",
   "metadata": {},
   "source": []
  }
 ],
 "metadata": {
  "kernelspec": {
   "display_name": "env",
   "language": "python",
   "name": "python3"
  },
  "language_info": {
   "codemirror_mode": {
    "name": "ipython",
    "version": 3
   },
   "file_extension": ".py",
   "mimetype": "text/x-python",
   "name": "python",
   "nbconvert_exporter": "python",
   "pygments_lexer": "ipython3",
   "version": "3.12.3"
  }
 },
 "nbformat": 4,
 "nbformat_minor": 2
}
