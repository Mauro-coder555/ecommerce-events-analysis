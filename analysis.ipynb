{
 "cells": [
  {
   "cell_type": "code",
   "execution_count": 1,
   "metadata": {},
   "outputs": [],
   "source": [
    "from pyspark.sql import SparkSession\n",
    "\n",
    "spark = SparkSession.builder.appName(\"MiAplicacion\").getOrCreate()\n",
    "\n"
   ]
  },
  {
   "cell_type": "markdown",
   "metadata": {},
   "source": [
    "### Propiedad Descripción\n",
    "\n",
    "**event_time** - Hora en la que ocurrió el evento (en UTC).\n",
    "\n",
    "**event_type** - Solo un tipo de evento: view - cart - remove_from_cart - purchase.\n",
    "\n",
    "**product_id** - ID de un producto.\n",
    "\n",
    "**category_id** - ID de la categoría del producto.\n",
    "\n",
    "**category_code** - Taxonomía de la categoría del producto (nombre en código) si fue posible obtenerla. Usualmente presente para categorías significativas y omitida para diferentes tipos de accesorios.\n",
    "\n",
    "**brand** - Cadena de texto en minúsculas del nombre de la marca. Puede faltar.\n",
    "\n",
    "**price** - Precio flotante de un producto. Presente.\n",
    "\n",
    "**user_id** - ID de usuario permanente\n",
    "\n",
    "**user_session** - ID de sesión temporal del usuario. Es el mismo para cada sesión del usuario. Cambia cada vez que el usuario regresa a la tienda online después de una pausa larga."
   ]
  },
  {
   "cell_type": "code",
   "execution_count": 2,
   "metadata": {},
   "outputs": [],
   "source": [
    "from pyspark.sql import functions as F"
   ]
  },
  {
   "cell_type": "code",
   "execution_count": 3,
   "metadata": {},
   "outputs": [],
   "source": [
    "import os\n",
    "csv_files = [os.path.join(\"archive\", f) for f in os.listdir(\"archive\") if f.endswith('.csv')]\n",
    "\n",
    "df = spark.read.options(header='True', inferSchema='True').csv(csv_files)"
   ]
  },
  {
   "cell_type": "code",
   "execution_count": 5,
   "metadata": {},
   "outputs": [
    {
     "data": {
      "text/plain": [
       "20692840"
      ]
     },
     "execution_count": 5,
     "metadata": {},
     "output_type": "execute_result"
    }
   ],
   "source": [
    "df.count()"
   ]
  },
  {
   "cell_type": "code",
   "execution_count": null,
   "metadata": {},
   "outputs": [],
   "source": []
  },
  {
   "cell_type": "code",
   "execution_count": 6,
   "metadata": {},
   "outputs": [
    {
     "name": "stdout",
     "output_type": "stream",
     "text": [
      "+-------------------+----------------+----------+-------------------+-------------+---------+-----+---------+--------------------+\n",
      "|         event_time|      event_type|product_id|        category_id|category_code|    brand|price|  user_id|        user_session|\n",
      "+-------------------+----------------+----------+-------------------+-------------+---------+-----+---------+--------------------+\n",
      "|2019-11-30 21:00:00|remove_from_cart|   5712790|1487580005268456287|         NULL|    f.o.x| 6.27|576802932|51d85cb0-897f-48d...|\n",
      "|2019-11-30 21:00:00|            view|   5764655|1487580005411062629|         NULL|      cnd|29.05|412120092|8adff31e-2051-489...|\n",
      "|2019-11-30 21:00:02|            cart|      4958|1487580009471148064|         NULL|   runail| 1.19|494077766|c99a50e8-2fac-4c4...|\n",
      "|2019-11-30 21:00:05|            view|   5848413|1487580007675986893|         NULL|freedecor| 0.79|348405118|722ffea5-73c0-492...|\n",
      "|2019-11-30 21:00:07|            view|   5824148|1487580005511725929|         NULL|     NULL| 5.56|576005683|28172809-7e4a-45c...|\n",
      "|2019-11-30 21:00:09|            view|   5773361|1487580005134238553|         NULL|   runail| 2.62|560109803|38cf4ba1-4a0a-4c9...|\n",
      "|2019-11-30 21:00:18|            cart|   5629988|1487580009311764506|         NULL|     NULL| 1.19|579966747|1512be50-d0fd-4a9...|\n",
      "|2019-11-30 21:00:22|            view|   5807805|1487580005713052531|         NULL| ingarden| 4.44|576005683|28172809-7e4a-45c...|\n",
      "|2019-11-30 21:00:27|            view|   5588608|1487580008145748965|         NULL| roubloff|  5.4|546170008|676d9fcc-2a4f-444...|\n",
      "|2019-11-30 21:00:34|            cart|      5335|1487580009605365797|         NULL|   runail|  0.4|494077766|c99a50e8-2fac-4c4...|\n",
      "|2019-11-30 21:00:40|            cart|   5755170|1487580009387261981|         NULL|     NULL| 2.79|579751441|8de492d7-0937-47a...|\n",
      "|2019-11-30 21:00:44|remove_from_cart|   5650294|1487580007835370453|         NULL|  metzger| 3.33|576802932|51d85cb0-897f-48d...|\n",
      "|2019-11-30 21:00:45|            cart|   5755170|1487580009387261981|         NULL|     NULL| 2.79|579751441|8de492d7-0937-47a...|\n",
      "|2019-11-30 21:00:46|remove_from_cart|   5692261|1487580007835370453|         NULL|  staleks| 6.35|576802932|51d85cb0-897f-48d...|\n",
      "|2019-11-30 21:00:46|            view|   5798929|1783999068909863670|         NULL|   zinger| 6.19|579966747|1512be50-d0fd-4a9...|\n",
      "|2019-11-30 21:00:46|            cart|   5755170|1487580009387261981|         NULL|     NULL| 2.79|579751441|8de492d7-0937-47a...|\n",
      "|2019-11-30 21:00:49|remove_from_cart|   5694628|1487580007835370453|         NULL|     yoko| 3.65|576802932|51d85cb0-897f-48d...|\n",
      "|2019-11-30 21:00:50|            view|      3936|1487580005343953762|         NULL|   entity|10.95|579969717|006dd2fb-ae1e-446...|\n",
      "|2019-11-30 21:00:52|            cart|   5761411|1487580007432717250|         NULL| ingarden| 2.86|494077766|c99a50e8-2fac-4c4...|\n",
      "|2019-11-30 21:00:58|            cart|   5761411|1487580007432717250|         NULL| ingarden| 2.86|494077766|c99a50e8-2fac-4c4...|\n",
      "+-------------------+----------------+----------+-------------------+-------------+---------+-----+---------+--------------------+\n",
      "only showing top 20 rows\n",
      "\n"
     ]
    }
   ],
   "source": [
    "df.show()"
   ]
  },
  {
   "cell_type": "code",
   "execution_count": 7,
   "metadata": {},
   "outputs": [
    {
     "name": "stdout",
     "output_type": "stream",
     "text": [
      "+-------------------+----------+----------+-------------------+-------------+-----+------+---------+--------------------+\n",
      "|         event_time|event_type|product_id|        category_id|category_code|brand| price|  user_id|        user_session|\n",
      "+-------------------+----------+----------+-------------------+-------------+-----+------+---------+--------------------+\n",
      "|2019-12-06 05:44:06|  purchase|   5670257|1487580014042939619|         NULL| NULL|-15.87|410016187|2414f145-f7fa-473...|\n",
      "|2019-12-08 09:38:35|  purchase|   5670257|1487580014042939619|         NULL| NULL|-15.87|579811230|001d3051-07af-1ce...|\n",
      "|2019-12-13 05:44:49|  purchase|   5716859|1487580014042939619|         NULL| NULL|-47.62|414087247|6617078d-899a-4b8...|\n",
      "|2019-12-13 10:48:10|  purchase|   5716857|1487580014042939619|         NULL| NULL|-23.81|584773479|a3f156d9-b7fc-444...|\n",
      "|2019-12-17 07:37:03|  purchase|   5670257|1487580014042939619|         NULL| NULL|-15.87|584498077|ecbf0f7c-3c10-42e...|\n",
      "|2019-12-17 07:37:03|  purchase|   5716855|1487580014042939619|         NULL| NULL| -7.94|584498077|ecbf0f7c-3c10-42e...|\n",
      "|2019-12-17 10:31:01|  purchase|   5670257|1487580014042939619|         NULL| NULL|-15.87|513455730|efd60b1a-f616-4f4...|\n",
      "|2019-12-20 14:56:16|  purchase|   5716859|1487580014042939619|         NULL| NULL|-47.62|589538798|094f5f94-e7d2-4d0...|\n",
      "|2019-12-22 16:31:01|  purchase|   5716859|1487580014042939619|         NULL| NULL|-47.62|590958276|42953b86-32c5-486...|\n",
      "|2019-12-25 10:01:21|  purchase|   5716861|1487580014042939619|         NULL| NULL|-79.37|489184067|af1b35db-1024-495...|\n",
      "|2019-12-25 17:37:02|  purchase|   5716857|1487580014042939619|         NULL| NULL|-23.81|592544594|3ffbc078-7722-48b...|\n",
      "|2019-12-27 05:34:06|  purchase|   5670257|1487580014042939619|         NULL| NULL|-15.87|588438828|0ac59395-6819-49c...|\n",
      "|2019-12-27 05:34:06|  purchase|   5670257|1487580014042939619|         NULL| NULL|-15.87|588438828|0ac59395-6819-49c...|\n",
      "|2019-12-28 04:32:52|  purchase|   5716859|1487580014042939619|         NULL| NULL|-47.62|545859098|013568f6-b7de-4f2...|\n",
      "|2019-12-28 04:39:08|  purchase|   5670257|1487580014042939619|         NULL| NULL|-15.87|410016187|55e52759-6ece-457...|\n",
      "|2019-12-28 12:42:00|  purchase|   5716855|1487580014042939619|         NULL| NULL| -7.94|539714006|e1d8e3b7-1309-475...|\n",
      "|2019-12-29 11:30:17|  purchase|   5716861|1487580014042939619|         NULL| NULL|-79.37|489118334|da505a6f-d98d-428...|\n",
      "|2019-12-29 14:49:32|  purchase|   5670257|1487580014042939619|         NULL| NULL|-15.87|594077054|bf35396d-126d-4d6...|\n",
      "|2019-11-01 12:36:23|  purchase|   5716855|1487580014042939619|         NULL| NULL| -7.94|566480066|34fa4291-9e2e-470...|\n",
      "|2019-11-03 15:47:04|  purchase|   5716859|1487580014042939619|         NULL| NULL|-47.62|567194545|fd27b149-3006-41c...|\n",
      "+-------------------+----------+----------+-------------------+-------------+-----+------+---------+--------------------+\n",
      "only showing top 20 rows\n",
      "\n"
     ]
    }
   ],
   "source": [
    "df.filter(F.col(\"price\") < 0).show()"
   ]
  },
  {
   "cell_type": "code",
   "execution_count": 4,
   "metadata": {},
   "outputs": [],
   "source": [
    "df = df.withColumn(\"price\",F.when(F.col(\"price\") < 0, F.abs(F.col(\"price\"))).otherwise(F.col(\"price\")))"
   ]
  },
  {
   "cell_type": "code",
   "execution_count": null,
   "metadata": {},
   "outputs": [
    {
     "name": "stderr",
     "output_type": "stream",
     "text": [
      "[Stage 6:====================================================>    (13 + 1) / 14]\r"
     ]
    },
    {
     "name": "stdout",
     "output_type": "stream",
     "text": [
      "+----------+----------+----------+-----------+-------------+-----+-----+-------+------------+\n",
      "|event_time|event_type|product_id|category_id|category_code|brand|price|user_id|user_session|\n",
      "+----------+----------+----------+-----------+-------------+-----+-----+-------+------------+\n",
      "+----------+----------+----------+-----------+-------------+-----+-----+-------+------------+\n",
      "\n"
     ]
    },
    {
     "name": "stderr",
     "output_type": "stream",
     "text": [
      "                                                                                \r"
     ]
    }
   ],
   "source": [
    "df.filter(F.col(\"price\") < 0).show()"
   ]
  },
  {
   "cell_type": "markdown",
   "metadata": {},
   "source": [
    "Tasa de conversión por producto: ¿Cuántos productos que fueron vistos terminaron en compra?"
   ]
  },
  {
   "cell_type": "code",
   "execution_count": null,
   "metadata": {},
   "outputs": [],
   "source": [
    "conversion_reates = df.groupBy(\"product_id\").agg(\n",
    "    F.sum(F.when(F.col(\"event_type\") == \"purchase\",1).otherwise(0)).alias(\"purchases\"),\n",
    "    F.sum(F.when(F.col(\"event_type\") == \"view\",1).otherwise(0)).alias(\"views\")\n",
    ").withColumn(\"conversion_rate\", \n",
    "            F.when(F.col(\"views\") > 0, F.col(\"purchases\") / F.col(\"views\")).otherwise(0)\n",
    ")  "
   ]
  },
  {
   "cell_type": "code",
   "execution_count": null,
   "metadata": {},
   "outputs": [
    {
     "name": "stderr",
     "output_type": "stream",
     "text": [
      "[Stage 3:======================================================>  (18 + 1) / 19]\r"
     ]
    },
    {
     "name": "stdout",
     "output_type": "stream",
     "text": [
      "+----------+---------+-----+--------------------+\n",
      "|product_id|purchases|views|     conversion_rate|\n",
      "+----------+---------+-----+--------------------+\n",
      "|   5819251|       40|  261|  0.1532567049808429|\n",
      "|   5657304|       12|  571|0.021015761821366025|\n",
      "|   5815137|       38|  236| 0.16101694915254236|\n",
      "|   5809871|     1100| 3868|  0.2843846949327818|\n",
      "|   5812121|      108|  781|  0.1382842509603073|\n",
      "|   5834157|      126| 1689| 0.07460035523978685|\n",
      "|   5908237|       20|  100|                 0.2|\n",
      "|   5826154|       96|  697| 0.13773314203730272|\n",
      "|   5670719|       69|  114|  0.6052631578947368|\n",
      "|   5767927|      299|  814| 0.36732186732186733|\n",
      "|   5574996|       19| 1290|0.014728682170542635|\n",
      "|   5900643|       58|  331| 0.17522658610271905|\n",
      "|   5876926|       94| 2055|0.045742092457420926|\n",
      "|   5863096|      107|  181|  0.5911602209944752|\n",
      "|   5713340|       15|  110| 0.13636363636363635|\n",
      "|   5557784|        8|  154| 0.05194805194805195|\n",
      "|   5797144|       19|  187| 0.10160427807486631|\n",
      "|   5866963|       18| 1078|0.016697588126159554|\n",
      "|   5876945|       32|  404| 0.07920792079207921|\n",
      "|   5885863|      431| 2627| 0.16406547392462886|\n",
      "+----------+---------+-----+--------------------+\n",
      "only showing top 20 rows\n",
      "\n"
     ]
    },
    {
     "name": "stderr",
     "output_type": "stream",
     "text": [
      "                                                                                \r"
     ]
    }
   ],
   "source": [
    "conversion_reates.show()"
   ]
  },
  {
   "cell_type": "markdown",
   "metadata": {},
   "source": [
    "Tiempo hasta la compra ¿Cuánto tiempo tarda un usuario en comprar desde su primer evento de vista?"
   ]
  },
  {
   "cell_type": "code",
   "execution_count": null,
   "metadata": {},
   "outputs": [],
   "source": [
    "df_filtered = df.filter(F.col(\"event_type\").isin([\"view\", \"purchase\"]))\n",
    "\n",
    "purchase_time = df_filtered.groupBy(\"user_session\",\"product_id\").agg(\n",
    "    F.min(F.when(F.col(\"event_type\") == \"view\",F.col(\"event_time\"))).alias(\"first_view\"),\n",
    "    F.min(F.when(F.col(\"event_type\") == \"purchase\",F.col(\"event_time\"))).alias(\"first_purchase\")\n",
    ").withColumn(\"time_to_purchase\", F.col(\"first_purchase\").cast(\"long\") - F.col(\"first_view\").cast(\"long\"))"
   ]
  },
  {
   "cell_type": "code",
   "execution_count": null,
   "metadata": {},
   "outputs": [
    {
     "name": "stderr",
     "output_type": "stream",
     "text": [
      "[Stage 17:>                                                         (0 + 1) / 1]\r"
     ]
    },
    {
     "name": "stdout",
     "output_type": "stream",
     "text": [
      "+--------------------+----------+-------------------+-------------------+----------------+\n",
      "|        user_session|product_id|         first_view|     first_purchase|time_to_purchase|\n",
      "+--------------------+----------+-------------------+-------------------+----------------+\n",
      "|885948cc-afa3-46a...|   5866173|2019-10-20 07:39:48|2019-10-20 04:47:40|          -10328|\n",
      "|8e64c2f8-0104-44e...|   5900297|2019-12-01 03:31:27|2019-12-01 04:35:08|            3821|\n",
      "|77e818ab-4d9f-4a1...|      4938|2019-12-01 11:24:41|2019-12-01 11:45:48|            1267|\n",
      "|00e83d38-8c67-4e5...|   5833332|2019-12-01 11:58:48|2019-12-01 12:17:09|            1101|\n",
      "|8ed1031c-601e-4c8...|   5819270|2019-12-01 12:29:21|2019-12-01 12:42:24|             783|\n",
      "|a9f51db0-7030-4d5...|   5699414|2019-12-01 13:01:56|2019-12-01 13:38:06|            2170|\n",
      "|5895cc10-6951-446...|   5787014|2019-12-01 14:32:50|2019-12-01 14:52:21|            1171|\n",
      "|f8499285-f42b-437...|   5862936|2019-12-01 14:45:35|2019-12-01 15:31:18|            2743|\n",
      "|e7a92ad4-a4d9-403...|   5856183|2019-12-01 15:21:17|2019-12-01 15:28:41|             444|\n",
      "|599cccf7-abd1-4cc...|      6941|2019-12-01 17:02:44|2019-12-01 17:10:29|             465|\n",
      "|e0868242-a13e-400...|   5825604|2019-12-01 18:14:17|2019-12-01 18:43:48|            1771|\n",
      "|57378140-9bcd-413...|   5713054|2019-12-02 01:57:14|2019-12-02 02:12:13|             899|\n",
      "|73395a21-d906-4d9...|   5833681|2019-12-02 03:13:36|2019-12-02 05:25:27|            7911|\n",
      "|25526107-1cce-4a5...|   5808662|2019-12-02 04:20:20|2019-12-02 04:56:21|            2161|\n",
      "|5e1fbe64-647a-43d...|   5846599|2019-10-02 09:21:53|2019-11-24 13:49:58|         4595285|\n",
      "|1f0d6a09-dc64-416...|   5811868|2019-12-02 07:57:13|2019-12-02 08:01:58|             285|\n",
      "|f970d001-302f-442...|   5842088|2019-12-02 12:54:53|2019-12-02 13:05:53|             660|\n",
      "|ee0b75cc-75e7-4e7...|   5853713|2019-12-02 13:18:37|2019-12-02 13:43:53|            1516|\n",
      "|b24d848a-215b-498...|   5759388|2019-12-02 15:02:05|2019-12-02 15:18:24|             979|\n",
      "|b0fffd6b-248c-4b3...|   5839648|2019-12-02 17:26:33|2019-12-02 17:36:07|             574|\n",
      "+--------------------+----------+-------------------+-------------------+----------------+\n",
      "only showing top 20 rows\n",
      "\n"
     ]
    },
    {
     "name": "stderr",
     "output_type": "stream",
     "text": [
      "                                                                                \r"
     ]
    }
   ],
   "source": [
    "purchase_time.filter(F.col(\"time_to_purchase\").isNotNull()).show()"
   ]
  },
  {
   "cell_type": "markdown",
   "metadata": {},
   "source": [
    "Algunas dudas sobre este punto. Porque hay negativos? Que pasa si miro un producto luego de comprarlo?"
   ]
  },
  {
   "cell_type": "markdown",
   "metadata": {},
   "source": [
    "Frecuencia de compra por usuario ¿Qué tan leales son los usuarios? ¿Compran repetidamente?"
   ]
  },
  {
   "cell_type": "code",
   "execution_count": null,
   "metadata": {},
   "outputs": [],
   "source": [
    "purchase_freq = df.filter(F.col(\"event_type\") == \"purchase\") \\\n",
    "                    .groupBy(\"user_id\") \\\n",
    "                    .agg(F.count(\"*\").alias(\"total_purchases\"))"
   ]
  },
  {
   "cell_type": "code",
   "execution_count": null,
   "metadata": {},
   "outputs": [
    {
     "name": "stderr",
     "output_type": "stream",
     "text": [
      "[Stage 30:=====================================================>  (18 + 1) / 19]\r"
     ]
    },
    {
     "name": "stdout",
     "output_type": "stream",
     "text": [
      "+---------+---------------+\n",
      "|  user_id|total_purchases|\n",
      "+---------+---------------+\n",
      "|578779619|              9|\n",
      "|580197384|              8|\n",
      "|479913443|             63|\n",
      "|579543348|              9|\n",
      "|539938733|             22|\n",
      "|569691461|              7|\n",
      "|522385131|            100|\n",
      "|461446900|             19|\n",
      "|445185747|             13|\n",
      "|398719446|             10|\n",
      "|543676273|             33|\n",
      "|580799959|             13|\n",
      "|581227067|              8|\n",
      "|568429315|              6|\n",
      "|563476291|             20|\n",
      "|439472531|              6|\n",
      "|582006763|             29|\n",
      "|582162065|              2|\n",
      "|582303660|             12|\n",
      "|569728881|              3|\n",
      "+---------+---------------+\n",
      "only showing top 20 rows\n",
      "\n"
     ]
    },
    {
     "name": "stderr",
     "output_type": "stream",
     "text": [
      "                                                                                \r"
     ]
    }
   ],
   "source": [
    "purchase_freq.show()"
   ]
  },
  {
   "cell_type": "markdown",
   "metadata": {},
   "source": [
    "Segmentación por precios\n",
    "¿Cuáles son los rangos de precio más populares?"
   ]
  },
  {
   "cell_type": "code",
   "execution_count": null,
   "metadata": {},
   "outputs": [
    {
     "name": "stderr",
     "output_type": "stream",
     "text": [
      "[Stage 7:======================================================>  (18 + 1) / 19]\r"
     ]
    },
    {
     "name": "stdout",
     "output_type": "stream",
     "text": [
      "+-----------+-------+\n",
      "|price range|  count|\n",
      "+-----------+-------+\n",
      "|          0|1280230|\n",
      "|         50|   5198|\n",
      "|        150|    655|\n",
      "|        100|    646|\n",
      "|        200|    155|\n",
      "|        250|    116|\n",
      "|        300|      7|\n",
      "+-----------+-------+\n",
      "\n"
     ]
    },
    {
     "name": "stderr",
     "output_type": "stream",
     "text": [
      "                                                                                \r"
     ]
    }
   ],
   "source": [
    "price_distribution = df.filter(F.col(\"event_type\") == \"purchase\") \\\n",
    "                            .groupBy(F.floor(F.col(\"price\") / 50) * 50) \\\n",
    "                            .agg(F.count(\"*\").alias(\"count\")) \\\n",
    "                            .withColumnRenamed(\"(floor((price / 50)) * 50)\", \"price range\") \\\n",
    "                            .orderBy(\"count\", ascending = False)   \n",
    "\n",
    "price_distribution.show() "
   ]
  },
  {
   "cell_type": "markdown",
   "metadata": {},
   "source": [
    "Análisis de abandono de carrito ¿Qué productos se agregan al carrito pero no se compran?"
   ]
  },
  {
   "cell_type": "code",
   "execution_count": null,
   "metadata": {},
   "outputs": [
    {
     "name": "stderr",
     "output_type": "stream",
     "text": [
      "[Stage 51:=====================================================>  (18 + 1) / 19]\r"
     ]
    },
    {
     "name": "stdout",
     "output_type": "stream",
     "text": [
      "+----------+-------------+---------+------------------+\n",
      "|product_id|added_to_cart|purchased|      abandon_rate|\n",
      "+----------+-------------+---------+------------------+\n",
      "|   5819251|          246|       40|0.8373983739837398|\n",
      "|   5657304|           83|       12|0.8554216867469879|\n",
      "|   5815137|          153|       38|0.7516339869281046|\n",
      "|   5809871|         3989|     1100|0.7242416645775883|\n",
      "|   5812121|          484|      108|0.7768595041322314|\n",
      "|   5834157|          660|      126|0.8090909090909091|\n",
      "|   5908237|           95|       20|0.7894736842105263|\n",
      "|   5826154|          390|       96|0.7538461538461538|\n",
      "|   5670719|          225|       69|0.6933333333333334|\n",
      "|   5767927|          809|      299| 0.630407911001236|\n",
      "|   5574996|          125|       19|             0.848|\n",
      "|   5900643|          192|       58|0.6979166666666666|\n",
      "|   5876926|          509|       94|0.8153241650294696|\n",
      "|   5863096|          637|      107|0.8320251177394035|\n",
      "|   5713340|           47|       15|0.6808510638297872|\n",
      "|   5557784|           39|        8|0.7948717948717948|\n",
      "|   5797144|          123|       19|0.8455284552845529|\n",
      "|   5866963|           83|       18|0.7831325301204819|\n",
      "|   5876945|          218|       32|0.8532110091743119|\n",
      "|   5885863|         1629|      431|0.7354205033763045|\n",
      "+----------+-------------+---------+------------------+\n",
      "only showing top 20 rows\n",
      "\n"
     ]
    },
    {
     "name": "stderr",
     "output_type": "stream",
     "text": [
      "                                                                                \r"
     ]
    }
   ],
   "source": [
    "cart_vs_purchase = df.groupBy(\"product_id\"). agg(\n",
    "    F.sum(F.when(F.col(\"event_type\") == \"cart\", 1).otherwise(0)).alias(\"added_to_cart\"),\n",
    "    F.sum(F.when(F.col(\"event_type\") == \"purchase\", 1).otherwise(0)).alias(\"purchased\")\n",
    "\n",
    "\n",
    ").withColumn(\"abandon_rate\", (F.col(\"added_to_cart\") - F.col(\"purchased\")) / F.col(\"added_to_cart\"))\n",
    "\n",
    "cart_vs_purchase.show()"
   ]
  },
  {
   "cell_type": "markdown",
   "metadata": {},
   "source": []
  },
  {
   "cell_type": "code",
   "execution_count": 9,
   "metadata": {},
   "outputs": [],
   "source": [
    "target_product = 5844305\n",
    "\n",
    "cart_events = df.select(\"*\").filter(\"event_type='cart'\")\n",
    "\n",
    "sessions_target = cart_events.select([\"user_session\"]).filter(F.col(\"product_id\") == target_product)"
   ]
  },
  {
   "cell_type": "code",
   "execution_count": 22,
   "metadata": {},
   "outputs": [],
   "source": [
    "products_with_target = cart_events.select([\"product_id\"]).filter(F.col(\"product_id\") != target_product).filter(cart_events[\"user_session\"].isin(sessions_target[\"user_session\"]))"
   ]
  },
  {
   "cell_type": "code",
   "execution_count": 25,
   "metadata": {},
   "outputs": [],
   "source": [
    "count_with_target = products_with_target.groupBy(\"product_id\").agg(F.count(\"*\"))"
   ]
  },
  {
   "cell_type": "code",
   "execution_count": 26,
   "metadata": {},
   "outputs": [
    {
     "name": "stderr",
     "output_type": "stream",
     "text": [
      "[Stage 9:======================================================>  (18 + 1) / 19]\r"
     ]
    },
    {
     "name": "stdout",
     "output_type": "stream",
     "text": [
      "+----------+--------+\n",
      "|product_id|count(1)|\n",
      "+----------+--------+\n",
      "|   5657304|      83|\n",
      "|   5815137|     153|\n",
      "|   5809871|    3989|\n",
      "|   5834157|     660|\n",
      "|   5908237|      95|\n",
      "|   5826154|     390|\n",
      "|   5670719|     225|\n",
      "|   5900643|     192|\n",
      "|   5574996|     125|\n",
      "|   5863096|     637|\n",
      "|   5797144|     123|\n",
      "|   5885863|    1620|\n",
      "|   5742957|    2040|\n",
      "|   5882575|     318|\n",
      "|   5893679|     474|\n",
      "|   5814871|     282|\n",
      "|   5649465|     155|\n",
      "|   5896615|     425|\n",
      "|   5868397|      29|\n",
      "|   5816884|      33|\n",
      "+----------+--------+\n",
      "only showing top 20 rows\n",
      "\n"
     ]
    },
    {
     "name": "stderr",
     "output_type": "stream",
     "text": [
      "                                                                                \r"
     ]
    }
   ],
   "source": [
    "count_with_target.show()"
   ]
  },
  {
   "cell_type": "code",
   "execution_count": 28,
   "metadata": {},
   "outputs": [
    {
     "name": "stderr",
     "output_type": "stream",
     "text": [
      "[Stage 14:================================================>       (12 + 2) / 14]\r"
     ]
    },
    {
     "name": "stdout",
     "output_type": "stream",
     "text": [
      "+----------+\n",
      "|product_id|\n",
      "+----------+\n",
      "+----------+\n",
      "\n"
     ]
    },
    {
     "name": "stderr",
     "output_type": "stream",
     "text": [
      "                                                                                \r"
     ]
    }
   ],
   "source": [
    "products_with_target.filter(F.col(\"product_id\") == target_product).show()"
   ]
  },
  {
   "cell_type": "code",
   "execution_count": 9,
   "metadata": {},
   "outputs": [
    {
     "ename": "ConnectionRefusedError",
     "evalue": "[WinError 10061] No se puede establecer una conexión ya que el equipo de destino denegó expresamente dicha conexión",
     "output_type": "error",
     "traceback": [
      "\u001b[31m---------------------------------------------------------------------------\u001b[39m",
      "\u001b[31mConnectionResetError\u001b[39m                      Traceback (most recent call last)",
      "\u001b[36mFile \u001b[39m\u001b[32mc:\\Users\\maupe\\Desktop\\Data\\ecommerce-events-analysis\\env\\Lib\\site-packages\\py4j\\clientserver.py:503\u001b[39m, in \u001b[36mClientServerConnection.send_command\u001b[39m\u001b[34m(self, command)\u001b[39m\n\u001b[32m    502\u001b[39m \u001b[38;5;28;01mtry\u001b[39;00m:\n\u001b[32m--> \u001b[39m\u001b[32m503\u001b[39m     \u001b[38;5;28;43mself\u001b[39;49m\u001b[43m.\u001b[49m\u001b[43msocket\u001b[49m\u001b[43m.\u001b[49m\u001b[43msendall\u001b[49m\u001b[43m(\u001b[49m\u001b[43mcommand\u001b[49m\u001b[43m.\u001b[49m\u001b[43mencode\u001b[49m\u001b[43m(\u001b[49m\u001b[33;43m\"\u001b[39;49m\u001b[33;43mutf-8\u001b[39;49m\u001b[33;43m\"\u001b[39;49m\u001b[43m)\u001b[49m\u001b[43m)\u001b[49m\n\u001b[32m    504\u001b[39m \u001b[38;5;28;01mexcept\u001b[39;00m \u001b[38;5;167;01mException\u001b[39;00m \u001b[38;5;28;01mas\u001b[39;00m e:\n",
      "\u001b[31mConnectionResetError\u001b[39m: [WinError 10054] Se ha forzado la interrupción de una conexión existente por el host remoto",
      "\nDuring handling of the above exception, another exception occurred:\n",
      "\u001b[31mPy4JNetworkError\u001b[39m                          Traceback (most recent call last)",
      "\u001b[36mFile \u001b[39m\u001b[32mc:\\Users\\maupe\\Desktop\\Data\\ecommerce-events-analysis\\env\\Lib\\site-packages\\py4j\\java_gateway.py:1038\u001b[39m, in \u001b[36mGatewayClient.send_command\u001b[39m\u001b[34m(self, command, retry, binary)\u001b[39m\n\u001b[32m   1037\u001b[39m \u001b[38;5;28;01mtry\u001b[39;00m:\n\u001b[32m-> \u001b[39m\u001b[32m1038\u001b[39m     response = \u001b[43mconnection\u001b[49m\u001b[43m.\u001b[49m\u001b[43msend_command\u001b[49m\u001b[43m(\u001b[49m\u001b[43mcommand\u001b[49m\u001b[43m)\u001b[49m\n\u001b[32m   1039\u001b[39m     \u001b[38;5;28;01mif\u001b[39;00m binary:\n",
      "\u001b[36mFile \u001b[39m\u001b[32mc:\\Users\\maupe\\Desktop\\Data\\ecommerce-events-analysis\\env\\Lib\\site-packages\\py4j\\clientserver.py:506\u001b[39m, in \u001b[36mClientServerConnection.send_command\u001b[39m\u001b[34m(self, command)\u001b[39m\n\u001b[32m    505\u001b[39m     logger.info(\u001b[33m\"\u001b[39m\u001b[33mError while sending or receiving.\u001b[39m\u001b[33m\"\u001b[39m, exc_info=\u001b[38;5;28;01mTrue\u001b[39;00m)\n\u001b[32m--> \u001b[39m\u001b[32m506\u001b[39m     \u001b[38;5;28;01mraise\u001b[39;00m Py4JNetworkError(\n\u001b[32m    507\u001b[39m         \u001b[33m\"\u001b[39m\u001b[33mError while sending\u001b[39m\u001b[33m\"\u001b[39m, e, proto.ERROR_ON_SEND)\n\u001b[32m    509\u001b[39m \u001b[38;5;28;01mtry\u001b[39;00m:\n",
      "\u001b[31mPy4JNetworkError\u001b[39m: Error while sending",
      "\nDuring handling of the above exception, another exception occurred:\n",
      "\u001b[31mConnectionRefusedError\u001b[39m                    Traceback (most recent call last)",
      "\u001b[36mCell\u001b[39m\u001b[36m \u001b[39m\u001b[32mIn[9]\u001b[39m\u001b[32m, line 5\u001b[39m\n\u001b[32m      2\u001b[39m \u001b[38;5;28;01mfrom\u001b[39;00m\u001b[38;5;250m \u001b[39m\u001b[34;01mpyspark\u001b[39;00m\u001b[34;01m.\u001b[39;00m\u001b[34;01msql\u001b[39;00m\u001b[34;01m.\u001b[39;00m\u001b[34;01mfunctions\u001b[39;00m\u001b[38;5;250m \u001b[39m\u001b[38;5;28;01mimport\u001b[39;00m col, isnull, \u001b[38;5;28msum\u001b[39m\n\u001b[32m      4\u001b[39m \u001b[38;5;66;03m# Crear una sesión de Spark (si aún no la tienes)\u001b[39;00m\n\u001b[32m----> \u001b[39m\u001b[32m5\u001b[39m spark = \u001b[43mSparkSession\u001b[49m\u001b[43m.\u001b[49m\u001b[43mbuilder\u001b[49m\u001b[43m.\u001b[49m\u001b[43mappName\u001b[49m\u001b[43m(\u001b[49m\u001b[33;43m\"\u001b[39;49m\u001b[33;43mContarNulos\u001b[39;49m\u001b[33;43m\"\u001b[39;49m\u001b[43m)\u001b[49m\u001b[43m.\u001b[49m\u001b[43mgetOrCreate\u001b[49m\u001b[43m(\u001b[49m\u001b[43m)\u001b[49m\n\u001b[32m      7\u001b[39m \u001b[38;5;66;03m# Suponiendo que tu DataFrame se llama 'df'\u001b[39;00m\n\u001b[32m      8\u001b[39m \u001b[38;5;66;03m# Puedes crearlo a partir de un archivo CSV, Parquet, etc.\u001b[39;00m\n\u001b[32m      9\u001b[39m \u001b[38;5;66;03m# Ejemplo:\u001b[39;00m\n\u001b[32m     10\u001b[39m \u001b[38;5;66;03m# df = spark.read.csv(\"tu_archivo.csv\", header=True, inferSchema=True)\u001b[39;00m\n\u001b[32m     11\u001b[39m \n\u001b[32m     12\u001b[39m \u001b[38;5;66;03m# Obtener la lista de nombres de las columnas\u001b[39;00m\n\u001b[32m     13\u001b[39m columnas = df.columns\n",
      "\u001b[36mFile \u001b[39m\u001b[32mc:\\Users\\maupe\\Desktop\\Data\\ecommerce-events-analysis\\env\\Lib\\site-packages\\pyspark\\sql\\session.py:503\u001b[39m, in \u001b[36mSparkSession.Builder.getOrCreate\u001b[39m\u001b[34m(self)\u001b[39m\n\u001b[32m    500\u001b[39m     session = SparkSession(sc, options=\u001b[38;5;28mself\u001b[39m._options)\n\u001b[32m    501\u001b[39m \u001b[38;5;28;01melse\u001b[39;00m:\n\u001b[32m    502\u001b[39m     \u001b[38;5;28mgetattr\u001b[39m(\n\u001b[32m--> \u001b[39m\u001b[32m503\u001b[39m         \u001b[38;5;28;43mgetattr\u001b[39;49m\u001b[43m(\u001b[49m\u001b[43msession\u001b[49m\u001b[43m.\u001b[49m\u001b[43m_jvm\u001b[49m\u001b[43m,\u001b[49m\u001b[43m \u001b[49m\u001b[33;43m\"\u001b[39;49m\u001b[33;43mSparkSession$\u001b[39;49m\u001b[33;43m\"\u001b[39;49m\u001b[43m)\u001b[49m, \u001b[33m\"\u001b[39m\u001b[33mMODULE$\u001b[39m\u001b[33m\"\u001b[39m\n\u001b[32m    504\u001b[39m     ).applyModifiableSettings(session._jsparkSession, \u001b[38;5;28mself\u001b[39m._options)\n\u001b[32m    505\u001b[39m \u001b[38;5;28;01mreturn\u001b[39;00m session\n",
      "\u001b[36mFile \u001b[39m\u001b[32mc:\\Users\\maupe\\Desktop\\Data\\ecommerce-events-analysis\\env\\Lib\\site-packages\\py4j\\java_gateway.py:1712\u001b[39m, in \u001b[36mJVMView.__getattr__\u001b[39m\u001b[34m(self, name)\u001b[39m\n\u001b[32m   1709\u001b[39m \u001b[38;5;28;01mif\u001b[39;00m name == UserHelpAutoCompletion.KEY:\n\u001b[32m   1710\u001b[39m     \u001b[38;5;28;01mreturn\u001b[39;00m UserHelpAutoCompletion()\n\u001b[32m-> \u001b[39m\u001b[32m1712\u001b[39m answer = \u001b[38;5;28;43mself\u001b[39;49m\u001b[43m.\u001b[49m\u001b[43m_gateway_client\u001b[49m\u001b[43m.\u001b[49m\u001b[43msend_command\u001b[49m\u001b[43m(\u001b[49m\n\u001b[32m   1713\u001b[39m \u001b[43m    \u001b[49m\u001b[43mproto\u001b[49m\u001b[43m.\u001b[49m\u001b[43mREFLECTION_COMMAND_NAME\u001b[49m\u001b[43m \u001b[49m\u001b[43m+\u001b[49m\n\u001b[32m   1714\u001b[39m \u001b[43m    \u001b[49m\u001b[43mproto\u001b[49m\u001b[43m.\u001b[49m\u001b[43mREFL_GET_UNKNOWN_SUB_COMMAND_NAME\u001b[49m\u001b[43m \u001b[49m\u001b[43m+\u001b[49m\u001b[43m \u001b[49m\u001b[43mname\u001b[49m\u001b[43m \u001b[49m\u001b[43m+\u001b[49m\u001b[43m \u001b[49m\u001b[33;43m\"\u001b[39;49m\u001b[38;5;130;43;01m\\n\u001b[39;49;00m\u001b[33;43m\"\u001b[39;49m\u001b[43m \u001b[49m\u001b[43m+\u001b[49m\u001b[43m \u001b[49m\u001b[38;5;28;43mself\u001b[39;49m\u001b[43m.\u001b[49m\u001b[43m_id\u001b[49m\u001b[43m \u001b[49m\u001b[43m+\u001b[49m\n\u001b[32m   1715\u001b[39m \u001b[43m    \u001b[49m\u001b[33;43m\"\u001b[39;49m\u001b[38;5;130;43;01m\\n\u001b[39;49;00m\u001b[33;43m\"\u001b[39;49m\u001b[43m \u001b[49m\u001b[43m+\u001b[49m\u001b[43m \u001b[49m\u001b[43mproto\u001b[49m\u001b[43m.\u001b[49m\u001b[43mEND_COMMAND_PART\u001b[49m\u001b[43m)\u001b[49m\n\u001b[32m   1716\u001b[39m \u001b[38;5;28;01mif\u001b[39;00m answer == proto.SUCCESS_PACKAGE:\n\u001b[32m   1717\u001b[39m     \u001b[38;5;28;01mreturn\u001b[39;00m JavaPackage(name, \u001b[38;5;28mself\u001b[39m._gateway_client, jvm_id=\u001b[38;5;28mself\u001b[39m._id)\n",
      "\u001b[36mFile \u001b[39m\u001b[32mc:\\Users\\maupe\\Desktop\\Data\\ecommerce-events-analysis\\env\\Lib\\site-packages\\py4j\\java_gateway.py:1053\u001b[39m, in \u001b[36mGatewayClient.send_command\u001b[39m\u001b[34m(self, command, retry, binary)\u001b[39m\n\u001b[32m   1051\u001b[39m \u001b[38;5;28;01mif\u001b[39;00m \u001b[38;5;28mself\u001b[39m._should_retry(retry, connection, pne):\n\u001b[32m   1052\u001b[39m     logging.info(\u001b[33m\"\u001b[39m\u001b[33mException while sending command.\u001b[39m\u001b[33m\"\u001b[39m, exc_info=\u001b[38;5;28;01mTrue\u001b[39;00m)\n\u001b[32m-> \u001b[39m\u001b[32m1053\u001b[39m     response = \u001b[38;5;28;43mself\u001b[39;49m\u001b[43m.\u001b[49m\u001b[43msend_command\u001b[49m\u001b[43m(\u001b[49m\u001b[43mcommand\u001b[49m\u001b[43m,\u001b[49m\u001b[43m \u001b[49m\u001b[43mbinary\u001b[49m\u001b[43m=\u001b[49m\u001b[43mbinary\u001b[49m\u001b[43m)\u001b[49m\n\u001b[32m   1054\u001b[39m \u001b[38;5;28;01melse\u001b[39;00m:\n\u001b[32m   1055\u001b[39m     logging.exception(\n\u001b[32m   1056\u001b[39m         \u001b[33m\"\u001b[39m\u001b[33mException while sending command.\u001b[39m\u001b[33m\"\u001b[39m)\n",
      "\u001b[36mFile \u001b[39m\u001b[32mc:\\Users\\maupe\\Desktop\\Data\\ecommerce-events-analysis\\env\\Lib\\site-packages\\py4j\\java_gateway.py:1036\u001b[39m, in \u001b[36mGatewayClient.send_command\u001b[39m\u001b[34m(self, command, retry, binary)\u001b[39m\n\u001b[32m   1015\u001b[39m \u001b[38;5;28;01mdef\u001b[39;00m\u001b[38;5;250m \u001b[39m\u001b[34msend_command\u001b[39m(\u001b[38;5;28mself\u001b[39m, command, retry=\u001b[38;5;28;01mTrue\u001b[39;00m, binary=\u001b[38;5;28;01mFalse\u001b[39;00m):\n\u001b[32m   1016\u001b[39m \u001b[38;5;250m    \u001b[39m\u001b[33;03m\"\"\"Sends a command to the JVM. This method is not intended to be\u001b[39;00m\n\u001b[32m   1017\u001b[39m \u001b[33;03m       called directly by Py4J users. It is usually called by\u001b[39;00m\n\u001b[32m   1018\u001b[39m \u001b[33;03m       :class:`JavaMember` instances.\u001b[39;00m\n\u001b[32m   (...)\u001b[39m\u001b[32m   1034\u001b[39m \u001b[33;03m     if `binary` is `True`.\u001b[39;00m\n\u001b[32m   1035\u001b[39m \u001b[33;03m    \"\"\"\u001b[39;00m\n\u001b[32m-> \u001b[39m\u001b[32m1036\u001b[39m     connection = \u001b[38;5;28;43mself\u001b[39;49m\u001b[43m.\u001b[49m\u001b[43m_get_connection\u001b[49m\u001b[43m(\u001b[49m\u001b[43m)\u001b[49m\n\u001b[32m   1037\u001b[39m     \u001b[38;5;28;01mtry\u001b[39;00m:\n\u001b[32m   1038\u001b[39m         response = connection.send_command(command)\n",
      "\u001b[36mFile \u001b[39m\u001b[32mc:\\Users\\maupe\\Desktop\\Data\\ecommerce-events-analysis\\env\\Lib\\site-packages\\py4j\\clientserver.py:284\u001b[39m, in \u001b[36mJavaClient._get_connection\u001b[39m\u001b[34m(self)\u001b[39m\n\u001b[32m    281\u001b[39m     \u001b[38;5;28;01mpass\u001b[39;00m\n\u001b[32m    283\u001b[39m \u001b[38;5;28;01mif\u001b[39;00m connection \u001b[38;5;129;01mis\u001b[39;00m \u001b[38;5;28;01mNone\u001b[39;00m \u001b[38;5;129;01mor\u001b[39;00m connection.socket \u001b[38;5;129;01mis\u001b[39;00m \u001b[38;5;28;01mNone\u001b[39;00m:\n\u001b[32m--> \u001b[39m\u001b[32m284\u001b[39m     connection = \u001b[38;5;28;43mself\u001b[39;49m\u001b[43m.\u001b[49m\u001b[43m_create_new_connection\u001b[49m\u001b[43m(\u001b[49m\u001b[43m)\u001b[49m\n\u001b[32m    285\u001b[39m \u001b[38;5;28;01mreturn\u001b[39;00m connection\n",
      "\u001b[36mFile \u001b[39m\u001b[32mc:\\Users\\maupe\\Desktop\\Data\\ecommerce-events-analysis\\env\\Lib\\site-packages\\py4j\\clientserver.py:291\u001b[39m, in \u001b[36mJavaClient._create_new_connection\u001b[39m\u001b[34m(self)\u001b[39m\n\u001b[32m    287\u001b[39m \u001b[38;5;28;01mdef\u001b[39;00m\u001b[38;5;250m \u001b[39m\u001b[34m_create_new_connection\u001b[39m(\u001b[38;5;28mself\u001b[39m):\n\u001b[32m    288\u001b[39m     connection = ClientServerConnection(\n\u001b[32m    289\u001b[39m         \u001b[38;5;28mself\u001b[39m.java_parameters, \u001b[38;5;28mself\u001b[39m.python_parameters,\n\u001b[32m    290\u001b[39m         \u001b[38;5;28mself\u001b[39m.gateway_property, \u001b[38;5;28mself\u001b[39m)\n\u001b[32m--> \u001b[39m\u001b[32m291\u001b[39m     \u001b[43mconnection\u001b[49m\u001b[43m.\u001b[49m\u001b[43mconnect_to_java_server\u001b[49m\u001b[43m(\u001b[49m\u001b[43m)\u001b[49m\n\u001b[32m    292\u001b[39m     \u001b[38;5;28mself\u001b[39m.set_thread_connection(connection)\n\u001b[32m    293\u001b[39m     \u001b[38;5;28;01mreturn\u001b[39;00m connection\n",
      "\u001b[36mFile \u001b[39m\u001b[32mc:\\Users\\maupe\\Desktop\\Data\\ecommerce-events-analysis\\env\\Lib\\site-packages\\py4j\\clientserver.py:438\u001b[39m, in \u001b[36mClientServerConnection.connect_to_java_server\u001b[39m\u001b[34m(self)\u001b[39m\n\u001b[32m    435\u001b[39m \u001b[38;5;28;01mif\u001b[39;00m \u001b[38;5;28mself\u001b[39m.ssl_context:\n\u001b[32m    436\u001b[39m     \u001b[38;5;28mself\u001b[39m.socket = \u001b[38;5;28mself\u001b[39m.ssl_context.wrap_socket(\n\u001b[32m    437\u001b[39m         \u001b[38;5;28mself\u001b[39m.socket, server_hostname=\u001b[38;5;28mself\u001b[39m.java_address)\n\u001b[32m--> \u001b[39m\u001b[32m438\u001b[39m \u001b[38;5;28;43mself\u001b[39;49m\u001b[43m.\u001b[49m\u001b[43msocket\u001b[49m\u001b[43m.\u001b[49m\u001b[43mconnect\u001b[49m\u001b[43m(\u001b[49m\u001b[43m(\u001b[49m\u001b[38;5;28;43mself\u001b[39;49m\u001b[43m.\u001b[49m\u001b[43mjava_address\u001b[49m\u001b[43m,\u001b[49m\u001b[43m \u001b[49m\u001b[38;5;28;43mself\u001b[39;49m\u001b[43m.\u001b[49m\u001b[43mjava_port\u001b[49m\u001b[43m)\u001b[49m\u001b[43m)\u001b[49m\n\u001b[32m    439\u001b[39m \u001b[38;5;28mself\u001b[39m.stream = \u001b[38;5;28mself\u001b[39m.socket.makefile(\u001b[33m\"\u001b[39m\u001b[33mrb\u001b[39m\u001b[33m\"\u001b[39m)\n\u001b[32m    440\u001b[39m \u001b[38;5;28mself\u001b[39m.is_connected = \u001b[38;5;28;01mTrue\u001b[39;00m\n",
      "\u001b[31mConnectionRefusedError\u001b[39m: [WinError 10061] No se puede establecer una conexión ya que el equipo de destino denegó expresamente dicha conexión"
     ]
    }
   ],
   "source": [
    "from pyspark.sql import SparkSession\n",
    "from pyspark.sql.functions import col, isnull, sum\n",
    "\n",
    "# Crear una sesión de Spark (si aún no la tienes)\n",
    "spark = SparkSession.builder.appName(\"ContarNulos\").getOrCreate()\n",
    "\n",
    "# Suponiendo que tu DataFrame se llama 'df'\n",
    "# Puedes crearlo a partir de un archivo CSV, Parquet, etc.\n",
    "# Ejemplo:\n",
    "# df = spark.read.csv(\"tu_archivo.csv\", header=True, inferSchema=True)\n",
    "\n",
    "# Obtener la lista de nombres de las columnas\n",
    "columnas = df.columns\n",
    "\n",
    "# Crear una lista de expresiones para contar los nulos por columna\n",
    "expresiones_nulos = [sum(isnull(col(c)).cast(\"integer\")).alias(c) for c in columnas]\n",
    "\n",
    "# Aplicar las expresiones al DataFrame y seleccionar los resultados\n",
    "conteo_nulos = df.agg(*expresiones_nulos)\n",
    "\n",
    "# Mostrar el resultado\n",
    "conteo_nulos.show()\n",
    "\n",
    "# Para obtener el resultado como un diccionario (opcional)\n",
    "resultado_dict = conteo_nulos.collect()[0].asDict()\n",
    "print(resultado_dict)"
   ]
  }
 ],
 "metadata": {
  "kernelspec": {
   "display_name": "env",
   "language": "python",
   "name": "python3"
  },
  "language_info": {
   "codemirror_mode": {
    "name": "ipython",
    "version": 3
   },
   "file_extension": ".py",
   "mimetype": "text/x-python",
   "name": "python",
   "nbconvert_exporter": "python",
   "pygments_lexer": "ipython3",
   "version": "3.13.1"
  }
 },
 "nbformat": 4,
 "nbformat_minor": 2
}
