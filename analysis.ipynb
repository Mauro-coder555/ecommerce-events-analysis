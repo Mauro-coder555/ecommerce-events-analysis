{
 "cells": [
  {
   "cell_type": "markdown",
   "metadata": {},
   "source": [
    "Property \t    Description\n",
    "\n",
    "*event_time* \tTime when event happened at (in UTC).\n",
    "\n",
    "*event_type* \tOnly one kind of event: purchase.\n",
    "\n",
    "*product_id* \tID of a product\n",
    "\n",
    "*category_id* \tProduct's category ID\n",
    "\n",
    "*category_code* \tProduct's category taxonomy (code name) if it was possible to make it. Usually present for meaningful categories and skipped for different kinds of accessories.\n",
    "\n",
    "*brand* \tDowncased string of brand name. Can be missed.\n",
    "\n",
    "*price* \tFloat price of a product. Present.\n",
    "\n",
    "*user_id* \tPermanent user ID.\n",
    "\n",
    "Event types\n",
    "Events can be:\n",
    "\n",
    "    view - a user viewed a product\n",
    "    cart - a user added a product to shopping cart\n",
    "    remove_from_cart - a user removed a product from shopping cart\n",
    "    purchase - a user purchased a product\n"
   ]
  },
  {
   "cell_type": "code",
   "execution_count": 1,
   "metadata": {},
   "outputs": [],
   "source": [
    "from pyspark.sql import SparkSession\n",
    "spark = SparkSession.builder.appName(\"MiAplicacion\").getOrCreate()"
   ]
  },
  {
   "cell_type": "code",
   "execution_count": 2,
   "metadata": {},
   "outputs": [],
   "source": [
    "from pyspark.sql import functions as F\n",
    "import os\n",
    "\n",
    "csv_files = [os.path.join(\"clean_data\", f) for f in os.listdir(\"clean_data\") if f.endswith('.csv')]\n",
    "\n",
    "df = spark.read.options(header='True', inferSchema='True').csv(csv_files)"
   ]
  },
  {
   "cell_type": "code",
   "execution_count": 3,
   "metadata": {},
   "outputs": [
    {
     "data": {
      "text/plain": [
       "18093117"
      ]
     },
     "execution_count": 3,
     "metadata": {},
     "output_type": "execute_result"
    }
   ],
   "source": [
    "df.count()"
   ]
  },
  {
   "cell_type": "code",
   "execution_count": null,
   "metadata": {},
   "outputs": [],
   "source": [
    "# 1. Configuración hardcodeada\n",
    "target_product = 5809910  # Producto objetivo\n",
    "\n",
    "# 2. Filtrar eventos de carrito y cachear (reutilizaremos esto)\n",
    "cart_events = df.filter(F.col(\"event_type\") == \"cart\").cache()\n",
    "\n",
    "try:\n",
    "    # 3. Sesiones que contienen el producto target\n",
    "    target_sessions = (\n",
    "        cart_events.filter(F.col(\"product_id\") == target_product)\n",
    "        .select(\"user_session\")\n",
    "        .distinct()\n",
    "    )\n",
    "\n",
    "    # 4. Join \n",
    "    co_occurring_products = (\n",
    "        # Une los eventos del carrito con las sesiones objetivo usando user_session como clave\n",
    "        cart_events.join(target_sessions, \"user_session\")  \n",
    "        \n",
    "        # Excluye el propio producto objetivo del resultado\n",
    "        .filter(F.col(\"product_id\") != target_product)      \n",
    "        \n",
    "        # Agrupa por product_id para contar co-ocurrencias\n",
    "        .groupBy(\"product_id\")\n",
    "        \n",
    "        # Cuenta cuántas veces aparece cada producto en carritos con el producto objetivo\n",
    "        .agg(F.count(\"*\").alias(\"count\"))\n",
    "        \n",
    "        # Ordena los resultados de mayor a menor frecuencia\n",
    "        .orderBy(F.desc(\"count\"))\n",
    "    )\n",
    "\n",
    "    # 5. Mostrar resultados (opcional)\n",
    "    co_occurring_products.show(truncate=False)\n",
    "\n",
    "finally:\n",
    "    # 6. Liberar memoria\n",
    "    cart_events.unpersist()\n"
   ]
  },
  {
   "cell_type": "code",
   "execution_count": 5,
   "metadata": {},
   "outputs": [
    {
     "name": "stdout",
     "output_type": "stream",
     "text": [
      "+----------+-----+\n",
      "|product_id|count|\n",
      "+----------+-----+\n",
      "|5809912   |4863 |\n",
      "|5809911   |3372 |\n",
      "|5816170   |2681 |\n",
      "|5816172   |1416 |\n",
      "|5700037   |1383 |\n",
      "|5816166   |1373 |\n",
      "|5854897   |1337 |\n",
      "|5802432   |996  |\n",
      "|5816169   |959  |\n",
      "|5751422   |933  |\n",
      "|5816178   |870  |\n",
      "|5854812   |860  |\n",
      "|5854832   |802  |\n",
      "|5814046   |762  |\n",
      "|5792800   |744  |\n",
      "|5815662   |725  |\n",
      "|5849033   |724  |\n",
      "|5816175   |714  |\n",
      "|5850625   |653  |\n",
      "|5686925   |638  |\n",
      "+----------+-----+\n",
      "only showing top 20 rows\n",
      "\n"
     ]
    }
   ],
   "source": [
    "\n",
    "co_occurring_products.show(truncate=False)"
   ]
  },
  {
   "cell_type": "code",
   "execution_count": null,
   "metadata": {},
   "outputs": [],
   "source": [
    "from pyspark.sql import DataFrame\n",
    "\n",
    "# Configuración en función\n",
    "def get_co_occurring_products(df: DataFrame, target_product: int) -> DataFrame:\n",
    "\n",
    "    cart_events = df.filter(F.col(\"event_type\") == \"cart\").cache()\n",
    "\n",
    "    try:\n",
    "\n",
    "        target_sessions = (\n",
    "            cart_events.filter(F.col(\"product_id\") == target_product)\n",
    "            .select(\"user_session\")\n",
    "            .distinct()\n",
    "        )\n",
    "\n",
    "   \n",
    "        co_occurring_products = (\n",
    "            cart_events.join(target_sessions, \"user_session\")  \n",
    "            .filter(F.col(\"product_id\") != target_product)      \n",
    "            .groupBy(\"product_id\")\n",
    "            .agg(F.count(\"*\").alias(\"count\"))\n",
    "            .orderBy(F.desc(\"count\"))\n",
    "        )\n",
    "\n",
    "    finally:\n",
    "\n",
    "        cart_events.unpersist()\n",
    "\n",
    "    return co_occurring_products"
   ]
  }
 ],
 "metadata": {
  "kernelspec": {
   "display_name": "env",
   "language": "python",
   "name": "python3"
  },
  "language_info": {
   "codemirror_mode": {
    "name": "ipython",
    "version": 3
   },
   "file_extension": ".py",
   "mimetype": "text/x-python",
   "name": "python",
   "nbconvert_exporter": "python",
   "pygments_lexer": "ipython3",
   "version": "3.13.1"
  }
 },
 "nbformat": 4,
 "nbformat_minor": 2
}
